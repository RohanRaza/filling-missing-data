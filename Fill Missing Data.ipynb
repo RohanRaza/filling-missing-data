{
 "cells": [
  {
   "cell_type": "code",
   "execution_count": 1,
   "id": "b3bb59fb",
   "metadata": {},
   "outputs": [],
   "source": [
    "import pandas as pd\n",
    "import matplotlib.pyplot as plt"
   ]
  },
  {
   "cell_type": "code",
   "execution_count": 2,
   "id": "f248bda1",
   "metadata": {},
   "outputs": [],
   "source": [
    "wh15 = pd.read_csv(\"wh_2015.csv\")\n",
    "wh16 = pd.read_csv(\"wh_2016.csv\")\n",
    "wh17 = pd.read_csv(\"wh_2017.csv\")"
   ]
  },
  {
   "cell_type": "code",
   "execution_count": 3,
   "id": "9e0f6112",
   "metadata": {},
   "outputs": [
    {
     "data": {
      "text/plain": [
       "(164, 13)"
      ]
     },
     "execution_count": 3,
     "metadata": {},
     "output_type": "execute_result"
    }
   ],
   "source": [
    "wh15.shape"
   ]
  },
  {
   "cell_type": "code",
   "execution_count": 4,
   "id": "25034a2e",
   "metadata": {},
   "outputs": [
    {
     "data": {
      "text/plain": [
       "(164, 14)"
      ]
     },
     "execution_count": 4,
     "metadata": {},
     "output_type": "execute_result"
    }
   ],
   "source": [
    "wh16.shape"
   ]
  },
  {
   "cell_type": "code",
   "execution_count": 5,
   "id": "f9a47bc0",
   "metadata": {},
   "outputs": [
    {
     "data": {
      "text/plain": [
       "(164, 13)"
      ]
     },
     "execution_count": 5,
     "metadata": {},
     "output_type": "execute_result"
    }
   ],
   "source": [
    "wh17.shape"
   ]
  },
  {
   "cell_type": "code",
   "execution_count": 6,
   "id": "9d7f4768",
   "metadata": {},
   "outputs": [
    {
     "data": {
      "text/plain": [
       "Index(['Country', 'Region', 'Happiness Rank', 'Happiness Score',\n",
       "       'Standard Error', 'Economy (GDP per Capita)', 'Family',\n",
       "       'Health (Life Expectancy)', 'Freedom', 'Trust (Government Corruption)',\n",
       "       'Generosity', 'Dystopia Residual', 'Year'],\n",
       "      dtype='object')"
      ]
     },
     "execution_count": 6,
     "metadata": {},
     "output_type": "execute_result"
    }
   ],
   "source": [
    "wh15.columns"
   ]
  },
  {
   "cell_type": "code",
   "execution_count": 7,
   "id": "7585413b",
   "metadata": {},
   "outputs": [
    {
     "data": {
      "text/plain": [
       "Index(['Country', 'Region', 'Happiness Rank', 'Happiness Score',\n",
       "       'Lower Confidence Interval', 'Upper Confidence Interval',\n",
       "       'Economy (GDP per Capita)', 'Family', 'Health (Life Expectancy)',\n",
       "       'Freedom', 'Trust (Government Corruption)', 'Generosity',\n",
       "       'Dystopia Residual', 'Year'],\n",
       "      dtype='object')"
      ]
     },
     "execution_count": 7,
     "metadata": {},
     "output_type": "execute_result"
    }
   ],
   "source": [
    "wh16.columns"
   ]
  },
  {
   "cell_type": "code",
   "execution_count": 8,
   "id": "ca91425f",
   "metadata": {},
   "outputs": [
    {
     "data": {
      "text/plain": [
       "Index(['Country', 'Happiness.Rank', 'Happiness.Score', 'Whisker.high',\n",
       "       'Whisker.low', 'Economy..GDP.per.Capita.', 'Family',\n",
       "       'Health..Life.Expectancy.', 'Freedom', 'Generosity',\n",
       "       'Trust..Government.Corruption.', 'Dystopia.Residual', 'Year'],\n",
       "      dtype='object')"
      ]
     },
     "execution_count": 8,
     "metadata": {},
     "output_type": "execute_result"
    }
   ],
   "source": [
    "wh17.columns"
   ]
  },
  {
   "cell_type": "code",
   "execution_count": 9,
   "id": "3a9e38d3",
   "metadata": {},
   "outputs": [
    {
     "data": {
      "text/plain": [
       "Country                          0\n",
       "Region                           6\n",
       "Happiness Rank                   6\n",
       "Happiness Score                  6\n",
       "Standard Error                   6\n",
       "Economy (GDP per Capita)         6\n",
       "Family                           6\n",
       "Health (Life Expectancy)         6\n",
       "Freedom                          6\n",
       "Trust (Government Corruption)    6\n",
       "Generosity                       6\n",
       "Dystopia Residual                6\n",
       "Year                             0\n",
       "dtype: int64"
      ]
     },
     "execution_count": 9,
     "metadata": {},
     "output_type": "execute_result"
    }
   ],
   "source": [
    "wh15.isnull().sum()"
   ]
  },
  {
   "cell_type": "code",
   "execution_count": 10,
   "id": "196eb7eb",
   "metadata": {},
   "outputs": [
    {
     "data": {
      "text/plain": [
       "Country                          0\n",
       "Region                           7\n",
       "Happiness Rank                   7\n",
       "Happiness Score                  7\n",
       "Lower Confidence Interval        7\n",
       "Upper Confidence Interval        7\n",
       "Economy (GDP per Capita)         7\n",
       "Family                           7\n",
       "Health (Life Expectancy)         7\n",
       "Freedom                          7\n",
       "Trust (Government Corruption)    7\n",
       "Generosity                       7\n",
       "Dystopia Residual                7\n",
       "Year                             0\n",
       "dtype: int64"
      ]
     },
     "execution_count": 10,
     "metadata": {},
     "output_type": "execute_result"
    }
   ],
   "source": [
    "wh16.isnull().sum()"
   ]
  },
  {
   "cell_type": "code",
   "execution_count": 11,
   "id": "76915227",
   "metadata": {},
   "outputs": [
    {
     "data": {
      "text/plain": [
       "Country                          0\n",
       "Happiness.Rank                   9\n",
       "Happiness.Score                  9\n",
       "Whisker.high                     9\n",
       "Whisker.low                      9\n",
       "Economy..GDP.per.Capita.         9\n",
       "Family                           9\n",
       "Health..Life.Expectancy.         9\n",
       "Freedom                          9\n",
       "Generosity                       9\n",
       "Trust..Government.Corruption.    9\n",
       "Dystopia.Residual                9\n",
       "Year                             0\n",
       "dtype: int64"
      ]
     },
     "execution_count": 11,
     "metadata": {},
     "output_type": "execute_result"
    }
   ],
   "source": [
    "wh17.isnull().sum()"
   ]
  },
  {
   "cell_type": "code",
   "execution_count": 12,
   "id": "4bdc6e7a",
   "metadata": {},
   "outputs": [
    {
     "data": {
      "text/plain": [
       "Index(['Country', 'Region', 'Happiness Rank', 'Happiness Score',\n",
       "       'Standard Error', 'Economy (GDP per Capita)', 'Family',\n",
       "       'Health (Life Expectancy)', 'Freedom', 'Trust (Government Corruption)',\n",
       "       'Generosity', 'Dystopia Residual', 'Year'],\n",
       "      dtype='object')"
      ]
     },
     "execution_count": 12,
     "metadata": {},
     "output_type": "execute_result"
    }
   ],
   "source": [
    "wh15.columns"
   ]
  },
  {
   "cell_type": "code",
   "execution_count": 13,
   "id": "8ad0805b",
   "metadata": {},
   "outputs": [
    {
     "name": "stderr",
     "output_type": "stream",
     "text": [
      "<ipython-input-13-b0f66ddf9ac6>:1: FutureWarning: The default value of regex will change from True to False in a future version. In addition, single character regular expressions will*not* be treated as literal strings when regex=True.\n",
      "  wh15.columns = wh15.columns.str.replace(\"(\",\" \").str.replace(\")\",\" \").str.lower().str.strip().str.replace(\"\\s+\",\" \")\n",
      "<ipython-input-13-b0f66ddf9ac6>:1: FutureWarning: The default value of regex will change from True to False in a future version.\n",
      "  wh15.columns = wh15.columns.str.replace(\"(\",\" \").str.replace(\")\",\" \").str.lower().str.strip().str.replace(\"\\s+\",\" \")\n"
     ]
    },
    {
     "data": {
      "text/plain": [
       "Index(['country', 'region', 'happiness rank', 'happiness score',\n",
       "       'standard error', 'economy gdp per capita', 'family',\n",
       "       'health life expectancy', 'freedom', 'trust government corruption',\n",
       "       'generosity', 'dystopia residual', 'year'],\n",
       "      dtype='object')"
      ]
     },
     "execution_count": 13,
     "metadata": {},
     "output_type": "execute_result"
    }
   ],
   "source": [
    "wh15.columns = wh15.columns.str.replace(\"(\",\" \").str.replace(\")\",\" \").str.lower().str.strip().str.replace(\"\\s+\",\" \")\n",
    "wh15.columns"
   ]
  },
  {
   "cell_type": "code",
   "execution_count": 14,
   "id": "75974ea5",
   "metadata": {},
   "outputs": [
    {
     "name": "stderr",
     "output_type": "stream",
     "text": [
      "<ipython-input-14-3a3c751d8148>:1: FutureWarning: The default value of regex will change from True to False in a future version. In addition, single character regular expressions will*not* be treated as literal strings when regex=True.\n",
      "  wh16.columns = wh16.columns.str.replace(\"(\",\" \").str.replace(\")\",\" \").str.lower().str.strip().str.replace(\"\\s+\",\" \")\n",
      "<ipython-input-14-3a3c751d8148>:1: FutureWarning: The default value of regex will change from True to False in a future version.\n",
      "  wh16.columns = wh16.columns.str.replace(\"(\",\" \").str.replace(\")\",\" \").str.lower().str.strip().str.replace(\"\\s+\",\" \")\n"
     ]
    },
    {
     "data": {
      "text/plain": [
       "Index(['country', 'region', 'happiness rank', 'happiness score',\n",
       "       'lower confidence interval', 'upper confidence interval',\n",
       "       'economy gdp per capita', 'family', 'health life expectancy', 'freedom',\n",
       "       'trust government corruption', 'generosity', 'dystopia residual',\n",
       "       'year'],\n",
       "      dtype='object')"
      ]
     },
     "execution_count": 14,
     "metadata": {},
     "output_type": "execute_result"
    }
   ],
   "source": [
    "wh16.columns = wh16.columns.str.replace(\"(\",\" \").str.replace(\")\",\" \").str.lower().str.strip().str.replace(\"\\s+\",\" \")\n",
    "wh16.columns"
   ]
  },
  {
   "cell_type": "code",
   "execution_count": 15,
   "id": "a386884b",
   "metadata": {},
   "outputs": [
    {
     "name": "stderr",
     "output_type": "stream",
     "text": [
      "<ipython-input-15-c2fcedcb6ed5>:1: FutureWarning: The default value of regex will change from True to False in a future version. In addition, single character regular expressions will*not* be treated as literal strings when regex=True.\n",
      "  wh17.columns = wh17.columns.str.replace(\"(\",\" \").str.replace(\")\",\" \").str.replace(\".\",\" \").str.lower().str.strip().str.replace(\"\\s+\",\" \")\n",
      "<ipython-input-15-c2fcedcb6ed5>:1: FutureWarning: The default value of regex will change from True to False in a future version.\n",
      "  wh17.columns = wh17.columns.str.replace(\"(\",\" \").str.replace(\")\",\" \").str.replace(\".\",\" \").str.lower().str.strip().str.replace(\"\\s+\",\" \")\n"
     ]
    },
    {
     "data": {
      "text/plain": [
       "Index(['country', 'happiness rank', 'happiness score', 'whisker high',\n",
       "       'whisker low', 'economy gdp per capita', 'family',\n",
       "       'health life expectancy', 'freedom', 'generosity',\n",
       "       'trust government corruption', 'dystopia residual', 'year'],\n",
       "      dtype='object')"
      ]
     },
     "execution_count": 15,
     "metadata": {},
     "output_type": "execute_result"
    }
   ],
   "source": [
    "wh17.columns = wh17.columns.str.replace(\"(\",\" \").str.replace(\")\",\" \").str.replace(\".\",\" \").str.lower().str.strip().str.replace(\"\\s+\",\" \")\n",
    "wh17.columns"
   ]
  },
  {
   "cell_type": "code",
   "execution_count": 16,
   "id": "412b8f54",
   "metadata": {},
   "outputs": [],
   "source": [
    "combine = pd.concat([wh15,wh16,wh17], ignore_index = True)"
   ]
  },
  {
   "cell_type": "code",
   "execution_count": 17,
   "id": "c03c1457",
   "metadata": {},
   "outputs": [
    {
     "data": {
      "text/html": [
       "<div>\n",
       "<style scoped>\n",
       "    .dataframe tbody tr th:only-of-type {\n",
       "        vertical-align: middle;\n",
       "    }\n",
       "\n",
       "    .dataframe tbody tr th {\n",
       "        vertical-align: top;\n",
       "    }\n",
       "\n",
       "    .dataframe thead th {\n",
       "        text-align: right;\n",
       "    }\n",
       "</style>\n",
       "<table border=\"1\" class=\"dataframe\">\n",
       "  <thead>\n",
       "    <tr style=\"text-align: right;\">\n",
       "      <th></th>\n",
       "      <th>country</th>\n",
       "      <th>region</th>\n",
       "      <th>happiness rank</th>\n",
       "      <th>happiness score</th>\n",
       "      <th>standard error</th>\n",
       "      <th>economy gdp per capita</th>\n",
       "      <th>family</th>\n",
       "      <th>health life expectancy</th>\n",
       "      <th>freedom</th>\n",
       "      <th>trust government corruption</th>\n",
       "      <th>generosity</th>\n",
       "      <th>dystopia residual</th>\n",
       "      <th>year</th>\n",
       "      <th>lower confidence interval</th>\n",
       "      <th>upper confidence interval</th>\n",
       "      <th>whisker high</th>\n",
       "      <th>whisker low</th>\n",
       "    </tr>\n",
       "  </thead>\n",
       "  <tbody>\n",
       "    <tr>\n",
       "      <th>0</th>\n",
       "      <td>Switzerland</td>\n",
       "      <td>Western Europe</td>\n",
       "      <td>1.0</td>\n",
       "      <td>7.587</td>\n",
       "      <td>0.03411</td>\n",
       "      <td>1.39651</td>\n",
       "      <td>1.34951</td>\n",
       "      <td>0.94143</td>\n",
       "      <td>0.66557</td>\n",
       "      <td>0.41978</td>\n",
       "      <td>0.29678</td>\n",
       "      <td>2.51738</td>\n",
       "      <td>2015</td>\n",
       "      <td>NaN</td>\n",
       "      <td>NaN</td>\n",
       "      <td>NaN</td>\n",
       "      <td>NaN</td>\n",
       "    </tr>\n",
       "    <tr>\n",
       "      <th>1</th>\n",
       "      <td>Iceland</td>\n",
       "      <td>Western Europe</td>\n",
       "      <td>2.0</td>\n",
       "      <td>7.561</td>\n",
       "      <td>0.04884</td>\n",
       "      <td>1.30232</td>\n",
       "      <td>1.40223</td>\n",
       "      <td>0.94784</td>\n",
       "      <td>0.62877</td>\n",
       "      <td>0.14145</td>\n",
       "      <td>0.43630</td>\n",
       "      <td>2.70201</td>\n",
       "      <td>2015</td>\n",
       "      <td>NaN</td>\n",
       "      <td>NaN</td>\n",
       "      <td>NaN</td>\n",
       "      <td>NaN</td>\n",
       "    </tr>\n",
       "    <tr>\n",
       "      <th>2</th>\n",
       "      <td>Denmark</td>\n",
       "      <td>Western Europe</td>\n",
       "      <td>3.0</td>\n",
       "      <td>7.527</td>\n",
       "      <td>0.03328</td>\n",
       "      <td>1.32548</td>\n",
       "      <td>1.36058</td>\n",
       "      <td>0.87464</td>\n",
       "      <td>0.64938</td>\n",
       "      <td>0.48357</td>\n",
       "      <td>0.34139</td>\n",
       "      <td>2.49204</td>\n",
       "      <td>2015</td>\n",
       "      <td>NaN</td>\n",
       "      <td>NaN</td>\n",
       "      <td>NaN</td>\n",
       "      <td>NaN</td>\n",
       "    </tr>\n",
       "    <tr>\n",
       "      <th>3</th>\n",
       "      <td>Norway</td>\n",
       "      <td>Western Europe</td>\n",
       "      <td>4.0</td>\n",
       "      <td>7.522</td>\n",
       "      <td>0.03880</td>\n",
       "      <td>1.45900</td>\n",
       "      <td>1.33095</td>\n",
       "      <td>0.88521</td>\n",
       "      <td>0.66973</td>\n",
       "      <td>0.36503</td>\n",
       "      <td>0.34699</td>\n",
       "      <td>2.46531</td>\n",
       "      <td>2015</td>\n",
       "      <td>NaN</td>\n",
       "      <td>NaN</td>\n",
       "      <td>NaN</td>\n",
       "      <td>NaN</td>\n",
       "    </tr>\n",
       "    <tr>\n",
       "      <th>4</th>\n",
       "      <td>Canada</td>\n",
       "      <td>North America</td>\n",
       "      <td>5.0</td>\n",
       "      <td>7.427</td>\n",
       "      <td>0.03553</td>\n",
       "      <td>1.32629</td>\n",
       "      <td>1.32261</td>\n",
       "      <td>0.90563</td>\n",
       "      <td>0.63297</td>\n",
       "      <td>0.32957</td>\n",
       "      <td>0.45811</td>\n",
       "      <td>2.45176</td>\n",
       "      <td>2015</td>\n",
       "      <td>NaN</td>\n",
       "      <td>NaN</td>\n",
       "      <td>NaN</td>\n",
       "      <td>NaN</td>\n",
       "    </tr>\n",
       "    <tr>\n",
       "      <th>...</th>\n",
       "      <td>...</td>\n",
       "      <td>...</td>\n",
       "      <td>...</td>\n",
       "      <td>...</td>\n",
       "      <td>...</td>\n",
       "      <td>...</td>\n",
       "      <td>...</td>\n",
       "      <td>...</td>\n",
       "      <td>...</td>\n",
       "      <td>...</td>\n",
       "      <td>...</td>\n",
       "      <td>...</td>\n",
       "      <td>...</td>\n",
       "      <td>...</td>\n",
       "      <td>...</td>\n",
       "      <td>...</td>\n",
       "      <td>...</td>\n",
       "    </tr>\n",
       "    <tr>\n",
       "      <th>487</th>\n",
       "      <td>Puerto Rico</td>\n",
       "      <td>NaN</td>\n",
       "      <td>NaN</td>\n",
       "      <td>NaN</td>\n",
       "      <td>NaN</td>\n",
       "      <td>NaN</td>\n",
       "      <td>NaN</td>\n",
       "      <td>NaN</td>\n",
       "      <td>NaN</td>\n",
       "      <td>NaN</td>\n",
       "      <td>NaN</td>\n",
       "      <td>NaN</td>\n",
       "      <td>2017</td>\n",
       "      <td>NaN</td>\n",
       "      <td>NaN</td>\n",
       "      <td>NaN</td>\n",
       "      <td>NaN</td>\n",
       "    </tr>\n",
       "    <tr>\n",
       "      <th>488</th>\n",
       "      <td>Somaliland Region</td>\n",
       "      <td>NaN</td>\n",
       "      <td>NaN</td>\n",
       "      <td>NaN</td>\n",
       "      <td>NaN</td>\n",
       "      <td>NaN</td>\n",
       "      <td>NaN</td>\n",
       "      <td>NaN</td>\n",
       "      <td>NaN</td>\n",
       "      <td>NaN</td>\n",
       "      <td>NaN</td>\n",
       "      <td>NaN</td>\n",
       "      <td>2017</td>\n",
       "      <td>NaN</td>\n",
       "      <td>NaN</td>\n",
       "      <td>NaN</td>\n",
       "      <td>NaN</td>\n",
       "    </tr>\n",
       "    <tr>\n",
       "      <th>489</th>\n",
       "      <td>Somaliland region</td>\n",
       "      <td>NaN</td>\n",
       "      <td>NaN</td>\n",
       "      <td>NaN</td>\n",
       "      <td>NaN</td>\n",
       "      <td>NaN</td>\n",
       "      <td>NaN</td>\n",
       "      <td>NaN</td>\n",
       "      <td>NaN</td>\n",
       "      <td>NaN</td>\n",
       "      <td>NaN</td>\n",
       "      <td>NaN</td>\n",
       "      <td>2017</td>\n",
       "      <td>NaN</td>\n",
       "      <td>NaN</td>\n",
       "      <td>NaN</td>\n",
       "      <td>NaN</td>\n",
       "    </tr>\n",
       "    <tr>\n",
       "      <th>490</th>\n",
       "      <td>Suriname</td>\n",
       "      <td>NaN</td>\n",
       "      <td>NaN</td>\n",
       "      <td>NaN</td>\n",
       "      <td>NaN</td>\n",
       "      <td>NaN</td>\n",
       "      <td>NaN</td>\n",
       "      <td>NaN</td>\n",
       "      <td>NaN</td>\n",
       "      <td>NaN</td>\n",
       "      <td>NaN</td>\n",
       "      <td>NaN</td>\n",
       "      <td>2017</td>\n",
       "      <td>NaN</td>\n",
       "      <td>NaN</td>\n",
       "      <td>NaN</td>\n",
       "      <td>NaN</td>\n",
       "    </tr>\n",
       "    <tr>\n",
       "      <th>491</th>\n",
       "      <td>Swaziland</td>\n",
       "      <td>NaN</td>\n",
       "      <td>NaN</td>\n",
       "      <td>NaN</td>\n",
       "      <td>NaN</td>\n",
       "      <td>NaN</td>\n",
       "      <td>NaN</td>\n",
       "      <td>NaN</td>\n",
       "      <td>NaN</td>\n",
       "      <td>NaN</td>\n",
       "      <td>NaN</td>\n",
       "      <td>NaN</td>\n",
       "      <td>2017</td>\n",
       "      <td>NaN</td>\n",
       "      <td>NaN</td>\n",
       "      <td>NaN</td>\n",
       "      <td>NaN</td>\n",
       "    </tr>\n",
       "  </tbody>\n",
       "</table>\n",
       "<p>492 rows × 17 columns</p>\n",
       "</div>"
      ],
      "text/plain": [
       "               country          region  happiness rank  happiness score  \\\n",
       "0          Switzerland  Western Europe             1.0            7.587   \n",
       "1              Iceland  Western Europe             2.0            7.561   \n",
       "2              Denmark  Western Europe             3.0            7.527   \n",
       "3               Norway  Western Europe             4.0            7.522   \n",
       "4               Canada   North America             5.0            7.427   \n",
       "..                 ...             ...             ...              ...   \n",
       "487        Puerto Rico             NaN             NaN              NaN   \n",
       "488  Somaliland Region             NaN             NaN              NaN   \n",
       "489  Somaliland region             NaN             NaN              NaN   \n",
       "490           Suriname             NaN             NaN              NaN   \n",
       "491          Swaziland             NaN             NaN              NaN   \n",
       "\n",
       "     standard error  economy gdp per capita   family  health life expectancy  \\\n",
       "0           0.03411                 1.39651  1.34951                 0.94143   \n",
       "1           0.04884                 1.30232  1.40223                 0.94784   \n",
       "2           0.03328                 1.32548  1.36058                 0.87464   \n",
       "3           0.03880                 1.45900  1.33095                 0.88521   \n",
       "4           0.03553                 1.32629  1.32261                 0.90563   \n",
       "..              ...                     ...      ...                     ...   \n",
       "487             NaN                     NaN      NaN                     NaN   \n",
       "488             NaN                     NaN      NaN                     NaN   \n",
       "489             NaN                     NaN      NaN                     NaN   \n",
       "490             NaN                     NaN      NaN                     NaN   \n",
       "491             NaN                     NaN      NaN                     NaN   \n",
       "\n",
       "     freedom  trust government corruption  generosity  dystopia residual  \\\n",
       "0    0.66557                      0.41978     0.29678            2.51738   \n",
       "1    0.62877                      0.14145     0.43630            2.70201   \n",
       "2    0.64938                      0.48357     0.34139            2.49204   \n",
       "3    0.66973                      0.36503     0.34699            2.46531   \n",
       "4    0.63297                      0.32957     0.45811            2.45176   \n",
       "..       ...                          ...         ...                ...   \n",
       "487      NaN                          NaN         NaN                NaN   \n",
       "488      NaN                          NaN         NaN                NaN   \n",
       "489      NaN                          NaN         NaN                NaN   \n",
       "490      NaN                          NaN         NaN                NaN   \n",
       "491      NaN                          NaN         NaN                NaN   \n",
       "\n",
       "     year  lower confidence interval  upper confidence interval  whisker high  \\\n",
       "0    2015                        NaN                        NaN           NaN   \n",
       "1    2015                        NaN                        NaN           NaN   \n",
       "2    2015                        NaN                        NaN           NaN   \n",
       "3    2015                        NaN                        NaN           NaN   \n",
       "4    2015                        NaN                        NaN           NaN   \n",
       "..    ...                        ...                        ...           ...   \n",
       "487  2017                        NaN                        NaN           NaN   \n",
       "488  2017                        NaN                        NaN           NaN   \n",
       "489  2017                        NaN                        NaN           NaN   \n",
       "490  2017                        NaN                        NaN           NaN   \n",
       "491  2017                        NaN                        NaN           NaN   \n",
       "\n",
       "     whisker low  \n",
       "0            NaN  \n",
       "1            NaN  \n",
       "2            NaN  \n",
       "3            NaN  \n",
       "4            NaN  \n",
       "..           ...  \n",
       "487          NaN  \n",
       "488          NaN  \n",
       "489          NaN  \n",
       "490          NaN  \n",
       "491          NaN  \n",
       "\n",
       "[492 rows x 17 columns]"
      ]
     },
     "execution_count": 17,
     "metadata": {},
     "output_type": "execute_result"
    }
   ],
   "source": [
    "combine"
   ]
  },
  {
   "cell_type": "code",
   "execution_count": 18,
   "id": "502b9f34",
   "metadata": {},
   "outputs": [
    {
     "data": {
      "text/plain": [
       "country                          0\n",
       "region                         177\n",
       "happiness rank                  22\n",
       "happiness score                 22\n",
       "standard error                 334\n",
       "economy gdp per capita          22\n",
       "family                          22\n",
       "health life expectancy          22\n",
       "freedom                         22\n",
       "trust government corruption     22\n",
       "generosity                      22\n",
       "dystopia residual               22\n",
       "year                             0\n",
       "lower confidence interval      335\n",
       "upper confidence interval      335\n",
       "whisker high                   337\n",
       "whisker low                    337\n",
       "dtype: int64"
      ]
     },
     "execution_count": 18,
     "metadata": {},
     "output_type": "execute_result"
    }
   ],
   "source": [
    "combine.isnull().sum()"
   ]
  },
  {
   "cell_type": "code",
   "execution_count": 19,
   "id": "d80fb0eb",
   "metadata": {},
   "outputs": [
    {
     "data": {
      "text/html": [
       "<div>\n",
       "<style scoped>\n",
       "    .dataframe tbody tr th:only-of-type {\n",
       "        vertical-align: middle;\n",
       "    }\n",
       "\n",
       "    .dataframe tbody tr th {\n",
       "        vertical-align: top;\n",
       "    }\n",
       "\n",
       "    .dataframe thead th {\n",
       "        text-align: right;\n",
       "    }\n",
       "</style>\n",
       "<table border=\"1\" class=\"dataframe\">\n",
       "  <thead>\n",
       "    <tr style=\"text-align: right;\">\n",
       "      <th></th>\n",
       "      <th>country</th>\n",
       "      <th>region</th>\n",
       "      <th>happiness rank</th>\n",
       "      <th>happiness score</th>\n",
       "      <th>standard error</th>\n",
       "      <th>economy gdp per capita</th>\n",
       "      <th>family</th>\n",
       "      <th>health life expectancy</th>\n",
       "      <th>freedom</th>\n",
       "      <th>trust government corruption</th>\n",
       "      <th>generosity</th>\n",
       "      <th>dystopia residual</th>\n",
       "      <th>lower confidence interval</th>\n",
       "      <th>upper confidence interval</th>\n",
       "      <th>whisker high</th>\n",
       "      <th>whisker low</th>\n",
       "    </tr>\n",
       "    <tr>\n",
       "      <th>year</th>\n",
       "      <th></th>\n",
       "      <th></th>\n",
       "      <th></th>\n",
       "      <th></th>\n",
       "      <th></th>\n",
       "      <th></th>\n",
       "      <th></th>\n",
       "      <th></th>\n",
       "      <th></th>\n",
       "      <th></th>\n",
       "      <th></th>\n",
       "      <th></th>\n",
       "      <th></th>\n",
       "      <th></th>\n",
       "      <th></th>\n",
       "      <th></th>\n",
       "    </tr>\n",
       "  </thead>\n",
       "  <tbody>\n",
       "    <tr>\n",
       "      <th>2015</th>\n",
       "      <td>Switzerland</td>\n",
       "      <td>Western Europe</td>\n",
       "      <td>1.0</td>\n",
       "      <td>7.587</td>\n",
       "      <td>0.03411</td>\n",
       "      <td>1.39651</td>\n",
       "      <td>1.34951</td>\n",
       "      <td>0.94143</td>\n",
       "      <td>0.66557</td>\n",
       "      <td>0.41978</td>\n",
       "      <td>0.29678</td>\n",
       "      <td>2.51738</td>\n",
       "      <td>NaN</td>\n",
       "      <td>NaN</td>\n",
       "      <td>NaN</td>\n",
       "      <td>NaN</td>\n",
       "    </tr>\n",
       "    <tr>\n",
       "      <th>2015</th>\n",
       "      <td>Iceland</td>\n",
       "      <td>Western Europe</td>\n",
       "      <td>2.0</td>\n",
       "      <td>7.561</td>\n",
       "      <td>0.04884</td>\n",
       "      <td>1.30232</td>\n",
       "      <td>1.40223</td>\n",
       "      <td>0.94784</td>\n",
       "      <td>0.62877</td>\n",
       "      <td>0.14145</td>\n",
       "      <td>0.43630</td>\n",
       "      <td>2.70201</td>\n",
       "      <td>NaN</td>\n",
       "      <td>NaN</td>\n",
       "      <td>NaN</td>\n",
       "      <td>NaN</td>\n",
       "    </tr>\n",
       "    <tr>\n",
       "      <th>2015</th>\n",
       "      <td>Denmark</td>\n",
       "      <td>Western Europe</td>\n",
       "      <td>3.0</td>\n",
       "      <td>7.527</td>\n",
       "      <td>0.03328</td>\n",
       "      <td>1.32548</td>\n",
       "      <td>1.36058</td>\n",
       "      <td>0.87464</td>\n",
       "      <td>0.64938</td>\n",
       "      <td>0.48357</td>\n",
       "      <td>0.34139</td>\n",
       "      <td>2.49204</td>\n",
       "      <td>NaN</td>\n",
       "      <td>NaN</td>\n",
       "      <td>NaN</td>\n",
       "      <td>NaN</td>\n",
       "    </tr>\n",
       "    <tr>\n",
       "      <th>2015</th>\n",
       "      <td>Norway</td>\n",
       "      <td>Western Europe</td>\n",
       "      <td>4.0</td>\n",
       "      <td>7.522</td>\n",
       "      <td>0.03880</td>\n",
       "      <td>1.45900</td>\n",
       "      <td>1.33095</td>\n",
       "      <td>0.88521</td>\n",
       "      <td>0.66973</td>\n",
       "      <td>0.36503</td>\n",
       "      <td>0.34699</td>\n",
       "      <td>2.46531</td>\n",
       "      <td>NaN</td>\n",
       "      <td>NaN</td>\n",
       "      <td>NaN</td>\n",
       "      <td>NaN</td>\n",
       "    </tr>\n",
       "    <tr>\n",
       "      <th>2015</th>\n",
       "      <td>Canada</td>\n",
       "      <td>North America</td>\n",
       "      <td>5.0</td>\n",
       "      <td>7.427</td>\n",
       "      <td>0.03553</td>\n",
       "      <td>1.32629</td>\n",
       "      <td>1.32261</td>\n",
       "      <td>0.90563</td>\n",
       "      <td>0.63297</td>\n",
       "      <td>0.32957</td>\n",
       "      <td>0.45811</td>\n",
       "      <td>2.45176</td>\n",
       "      <td>NaN</td>\n",
       "      <td>NaN</td>\n",
       "      <td>NaN</td>\n",
       "      <td>NaN</td>\n",
       "    </tr>\n",
       "    <tr>\n",
       "      <th>...</th>\n",
       "      <td>...</td>\n",
       "      <td>...</td>\n",
       "      <td>...</td>\n",
       "      <td>...</td>\n",
       "      <td>...</td>\n",
       "      <td>...</td>\n",
       "      <td>...</td>\n",
       "      <td>...</td>\n",
       "      <td>...</td>\n",
       "      <td>...</td>\n",
       "      <td>...</td>\n",
       "      <td>...</td>\n",
       "      <td>...</td>\n",
       "      <td>...</td>\n",
       "      <td>...</td>\n",
       "      <td>...</td>\n",
       "    </tr>\n",
       "    <tr>\n",
       "      <th>2017</th>\n",
       "      <td>Puerto Rico</td>\n",
       "      <td>NaN</td>\n",
       "      <td>NaN</td>\n",
       "      <td>NaN</td>\n",
       "      <td>NaN</td>\n",
       "      <td>NaN</td>\n",
       "      <td>NaN</td>\n",
       "      <td>NaN</td>\n",
       "      <td>NaN</td>\n",
       "      <td>NaN</td>\n",
       "      <td>NaN</td>\n",
       "      <td>NaN</td>\n",
       "      <td>NaN</td>\n",
       "      <td>NaN</td>\n",
       "      <td>NaN</td>\n",
       "      <td>NaN</td>\n",
       "    </tr>\n",
       "    <tr>\n",
       "      <th>2017</th>\n",
       "      <td>Somaliland Region</td>\n",
       "      <td>NaN</td>\n",
       "      <td>NaN</td>\n",
       "      <td>NaN</td>\n",
       "      <td>NaN</td>\n",
       "      <td>NaN</td>\n",
       "      <td>NaN</td>\n",
       "      <td>NaN</td>\n",
       "      <td>NaN</td>\n",
       "      <td>NaN</td>\n",
       "      <td>NaN</td>\n",
       "      <td>NaN</td>\n",
       "      <td>NaN</td>\n",
       "      <td>NaN</td>\n",
       "      <td>NaN</td>\n",
       "      <td>NaN</td>\n",
       "    </tr>\n",
       "    <tr>\n",
       "      <th>2017</th>\n",
       "      <td>Somaliland region</td>\n",
       "      <td>NaN</td>\n",
       "      <td>NaN</td>\n",
       "      <td>NaN</td>\n",
       "      <td>NaN</td>\n",
       "      <td>NaN</td>\n",
       "      <td>NaN</td>\n",
       "      <td>NaN</td>\n",
       "      <td>NaN</td>\n",
       "      <td>NaN</td>\n",
       "      <td>NaN</td>\n",
       "      <td>NaN</td>\n",
       "      <td>NaN</td>\n",
       "      <td>NaN</td>\n",
       "      <td>NaN</td>\n",
       "      <td>NaN</td>\n",
       "    </tr>\n",
       "    <tr>\n",
       "      <th>2017</th>\n",
       "      <td>Suriname</td>\n",
       "      <td>NaN</td>\n",
       "      <td>NaN</td>\n",
       "      <td>NaN</td>\n",
       "      <td>NaN</td>\n",
       "      <td>NaN</td>\n",
       "      <td>NaN</td>\n",
       "      <td>NaN</td>\n",
       "      <td>NaN</td>\n",
       "      <td>NaN</td>\n",
       "      <td>NaN</td>\n",
       "      <td>NaN</td>\n",
       "      <td>NaN</td>\n",
       "      <td>NaN</td>\n",
       "      <td>NaN</td>\n",
       "      <td>NaN</td>\n",
       "    </tr>\n",
       "    <tr>\n",
       "      <th>2017</th>\n",
       "      <td>Swaziland</td>\n",
       "      <td>NaN</td>\n",
       "      <td>NaN</td>\n",
       "      <td>NaN</td>\n",
       "      <td>NaN</td>\n",
       "      <td>NaN</td>\n",
       "      <td>NaN</td>\n",
       "      <td>NaN</td>\n",
       "      <td>NaN</td>\n",
       "      <td>NaN</td>\n",
       "      <td>NaN</td>\n",
       "      <td>NaN</td>\n",
       "      <td>NaN</td>\n",
       "      <td>NaN</td>\n",
       "      <td>NaN</td>\n",
       "      <td>NaN</td>\n",
       "    </tr>\n",
       "  </tbody>\n",
       "</table>\n",
       "<p>492 rows × 16 columns</p>\n",
       "</div>"
      ],
      "text/plain": [
       "                country          region  happiness rank  happiness score  \\\n",
       "year                                                                       \n",
       "2015        Switzerland  Western Europe             1.0            7.587   \n",
       "2015            Iceland  Western Europe             2.0            7.561   \n",
       "2015            Denmark  Western Europe             3.0            7.527   \n",
       "2015             Norway  Western Europe             4.0            7.522   \n",
       "2015             Canada   North America             5.0            7.427   \n",
       "...                 ...             ...             ...              ...   \n",
       "2017        Puerto Rico             NaN             NaN              NaN   \n",
       "2017  Somaliland Region             NaN             NaN              NaN   \n",
       "2017  Somaliland region             NaN             NaN              NaN   \n",
       "2017           Suriname             NaN             NaN              NaN   \n",
       "2017          Swaziland             NaN             NaN              NaN   \n",
       "\n",
       "      standard error  economy gdp per capita   family  health life expectancy  \\\n",
       "year                                                                            \n",
       "2015         0.03411                 1.39651  1.34951                 0.94143   \n",
       "2015         0.04884                 1.30232  1.40223                 0.94784   \n",
       "2015         0.03328                 1.32548  1.36058                 0.87464   \n",
       "2015         0.03880                 1.45900  1.33095                 0.88521   \n",
       "2015         0.03553                 1.32629  1.32261                 0.90563   \n",
       "...              ...                     ...      ...                     ...   \n",
       "2017             NaN                     NaN      NaN                     NaN   \n",
       "2017             NaN                     NaN      NaN                     NaN   \n",
       "2017             NaN                     NaN      NaN                     NaN   \n",
       "2017             NaN                     NaN      NaN                     NaN   \n",
       "2017             NaN                     NaN      NaN                     NaN   \n",
       "\n",
       "      freedom  trust government corruption  generosity  dystopia residual  \\\n",
       "year                                                                        \n",
       "2015  0.66557                      0.41978     0.29678            2.51738   \n",
       "2015  0.62877                      0.14145     0.43630            2.70201   \n",
       "2015  0.64938                      0.48357     0.34139            2.49204   \n",
       "2015  0.66973                      0.36503     0.34699            2.46531   \n",
       "2015  0.63297                      0.32957     0.45811            2.45176   \n",
       "...       ...                          ...         ...                ...   \n",
       "2017      NaN                          NaN         NaN                NaN   \n",
       "2017      NaN                          NaN         NaN                NaN   \n",
       "2017      NaN                          NaN         NaN                NaN   \n",
       "2017      NaN                          NaN         NaN                NaN   \n",
       "2017      NaN                          NaN         NaN                NaN   \n",
       "\n",
       "      lower confidence interval  upper confidence interval  whisker high  \\\n",
       "year                                                                       \n",
       "2015                        NaN                        NaN           NaN   \n",
       "2015                        NaN                        NaN           NaN   \n",
       "2015                        NaN                        NaN           NaN   \n",
       "2015                        NaN                        NaN           NaN   \n",
       "2015                        NaN                        NaN           NaN   \n",
       "...                         ...                        ...           ...   \n",
       "2017                        NaN                        NaN           NaN   \n",
       "2017                        NaN                        NaN           NaN   \n",
       "2017                        NaN                        NaN           NaN   \n",
       "2017                        NaN                        NaN           NaN   \n",
       "2017                        NaN                        NaN           NaN   \n",
       "\n",
       "      whisker low  \n",
       "year               \n",
       "2015          NaN  \n",
       "2015          NaN  \n",
       "2015          NaN  \n",
       "2015          NaN  \n",
       "2015          NaN  \n",
       "...           ...  \n",
       "2017          NaN  \n",
       "2017          NaN  \n",
       "2017          NaN  \n",
       "2017          NaN  \n",
       "2017          NaN  \n",
       "\n",
       "[492 rows x 16 columns]"
      ]
     },
     "execution_count": 19,
     "metadata": {},
     "output_type": "execute_result"
    }
   ],
   "source": [
    "combine.set_index(\"year\")"
   ]
  },
  {
   "cell_type": "code",
   "execution_count": 20,
   "id": "96b91e7c",
   "metadata": {},
   "outputs": [],
   "source": [
    "import seaborn as sns"
   ]
  },
  {
   "cell_type": "code",
   "execution_count": 21,
   "id": "29916eb3",
   "metadata": {},
   "outputs": [
    {
     "data": {
      "image/png": "[encoded data removed]",
      "text/plain": [
       "<Figure size 432x288 with 1 Axes>"
      ]
     },
     "metadata": {
      "needs_background": "light"
     },
     "output_type": "display_data"
    }
   ],
   "source": [
    "sns.heatmap(combine.set_index(\"year\").isnull(), cbar = False)\n",
    "plt.show()"
   ]
  },
  {
   "cell_type": "code",
   "execution_count": 22,
   "id": "1b23ff02",
   "metadata": {},
   "outputs": [],
   "source": [
    "region = pd.read_csv(\"region.csv\")"
   ]
  },
  {
   "cell_type": "code",
   "execution_count": 23,
   "id": "4f1ea4a5",
   "metadata": {},
   "outputs": [
    {
     "data": {
      "text/html": [
       "<div>\n",
       "<style scoped>\n",
       "    .dataframe tbody tr th:only-of-type {\n",
       "        vertical-align: middle;\n",
       "    }\n",
       "\n",
       "    .dataframe tbody tr th {\n",
       "        vertical-align: top;\n",
       "    }\n",
       "\n",
       "    .dataframe thead th {\n",
       "        text-align: right;\n",
       "    }\n",
       "</style>\n",
       "<table border=\"1\" class=\"dataframe\">\n",
       "  <thead>\n",
       "    <tr style=\"text-align: right;\">\n",
       "      <th></th>\n",
       "      <th>COUNTRY</th>\n",
       "      <th>REGION</th>\n",
       "    </tr>\n",
       "  </thead>\n",
       "  <tbody>\n",
       "    <tr>\n",
       "      <th>0</th>\n",
       "      <td>Switzerland</td>\n",
       "      <td>Western Europe</td>\n",
       "    </tr>\n",
       "    <tr>\n",
       "      <th>1</th>\n",
       "      <td>Iceland</td>\n",
       "      <td>Western Europe</td>\n",
       "    </tr>\n",
       "    <tr>\n",
       "      <th>2</th>\n",
       "      <td>Denmark</td>\n",
       "      <td>Western Europe</td>\n",
       "    </tr>\n",
       "    <tr>\n",
       "      <th>3</th>\n",
       "      <td>Norway</td>\n",
       "      <td>Western Europe</td>\n",
       "    </tr>\n",
       "    <tr>\n",
       "      <th>4</th>\n",
       "      <td>Canada</td>\n",
       "      <td>North America</td>\n",
       "    </tr>\n",
       "    <tr>\n",
       "      <th>...</th>\n",
       "      <td>...</td>\n",
       "      <td>...</td>\n",
       "    </tr>\n",
       "    <tr>\n",
       "      <th>159</th>\n",
       "      <td>Somaliland Region</td>\n",
       "      <td>Sub-Saharan Africa</td>\n",
       "    </tr>\n",
       "    <tr>\n",
       "      <th>160</th>\n",
       "      <td>Namibia</td>\n",
       "      <td>Sub-Saharan Africa</td>\n",
       "    </tr>\n",
       "    <tr>\n",
       "      <th>161</th>\n",
       "      <td>South Sudan</td>\n",
       "      <td>Sub-Saharan Africa</td>\n",
       "    </tr>\n",
       "    <tr>\n",
       "      <th>162</th>\n",
       "      <td>Congo (Kinshasa)</td>\n",
       "      <td>Central Africa</td>\n",
       "    </tr>\n",
       "    <tr>\n",
       "      <th>163</th>\n",
       "      <td>Congo (Brazzaville)</td>\n",
       "      <td>Central Africa</td>\n",
       "    </tr>\n",
       "  </tbody>\n",
       "</table>\n",
       "<p>164 rows × 2 columns</p>\n",
       "</div>"
      ],
      "text/plain": [
       "                 COUNTRY              REGION\n",
       "0            Switzerland      Western Europe\n",
       "1                Iceland      Western Europe\n",
       "2                Denmark      Western Europe\n",
       "3                 Norway      Western Europe\n",
       "4                 Canada       North America\n",
       "..                   ...                 ...\n",
       "159    Somaliland Region  Sub-Saharan Africa\n",
       "160              Namibia  Sub-Saharan Africa\n",
       "161          South Sudan  Sub-Saharan Africa\n",
       "162     Congo (Kinshasa)      Central Africa\n",
       "163  Congo (Brazzaville)      Central Africa\n",
       "\n",
       "[164 rows x 2 columns]"
      ]
     },
     "execution_count": 23,
     "metadata": {},
     "output_type": "execute_result"
    }
   ],
   "source": [
    "region"
   ]
  },
  {
   "cell_type": "code",
   "execution_count": 24,
   "id": "f0b4e7a5",
   "metadata": {},
   "outputs": [],
   "source": [
    "region.columns = region.columns.str.lower()"
   ]
  },
  {
   "cell_type": "code",
   "execution_count": 25,
   "id": "6738244c",
   "metadata": {},
   "outputs": [
    {
     "data": {
      "text/plain": [
       "Index(['country', 'region'], dtype='object')"
      ]
     },
     "execution_count": 25,
     "metadata": {},
     "output_type": "execute_result"
    }
   ],
   "source": [
    "region.columns"
   ]
  },
  {
   "cell_type": "code",
   "execution_count": 26,
   "id": "62cd3cb1",
   "metadata": {},
   "outputs": [],
   "source": [
    "merge = pd.merge(combine,region, on = \"country\", how = \"inner\")"
   ]
  },
  {
   "cell_type": "code",
   "execution_count": 27,
   "id": "65d6dea9",
   "metadata": {},
   "outputs": [
    {
     "data": {
      "text/plain": [
       "country                          0\n",
       "region_x                       177\n",
       "happiness rank                  22\n",
       "happiness score                 22\n",
       "standard error                 334\n",
       "economy gdp per capita          22\n",
       "family                          22\n",
       "health life expectancy          22\n",
       "freedom                         22\n",
       "trust government corruption     22\n",
       "generosity                      22\n",
       "dystopia residual               22\n",
       "year                             0\n",
       "lower confidence interval      335\n",
       "upper confidence interval      335\n",
       "whisker high                   337\n",
       "whisker low                    337\n",
       "region_y                         0\n",
       "dtype: int64"
      ]
     },
     "execution_count": 27,
     "metadata": {},
     "output_type": "execute_result"
    }
   ],
   "source": [
    "merge.isnull().sum()"
   ]
  },
  {
   "cell_type": "code",
   "execution_count": 28,
   "id": "373fc87b",
   "metadata": {},
   "outputs": [],
   "source": [
    "regions = merge.pop(\"region_x\")"
   ]
  },
  {
   "cell_type": "code",
   "execution_count": 29,
   "id": "3e24e989",
   "metadata": {},
   "outputs": [
    {
     "data": {
      "text/plain": [
       "Index(['country', 'happiness rank', 'happiness score', 'standard error',\n",
       "       'economy gdp per capita', 'family', 'health life expectancy', 'freedom',\n",
       "       'trust government corruption', 'generosity', 'dystopia residual',\n",
       "       'year', 'lower confidence interval', 'upper confidence interval',\n",
       "       'whisker high', 'whisker low', 'region_y'],\n",
       "      dtype='object')"
      ]
     },
     "execution_count": 29,
     "metadata": {},
     "output_type": "execute_result"
    }
   ],
   "source": [
    "merge.columns"
   ]
  },
  {
   "cell_type": "code",
   "execution_count": 30,
   "id": "55ff12bd",
   "metadata": {},
   "outputs": [],
   "source": [
    "merge.insert(1,\"region\",regions)"
   ]
  },
  {
   "cell_type": "code",
   "execution_count": 31,
   "id": "5d15205f",
   "metadata": {},
   "outputs": [
    {
     "data": {
      "text/html": [
       "<div>\n",
       "<style scoped>\n",
       "    .dataframe tbody tr th:only-of-type {\n",
       "        vertical-align: middle;\n",
       "    }\n",
       "\n",
       "    .dataframe tbody tr th {\n",
       "        vertical-align: top;\n",
       "    }\n",
       "\n",
       "    .dataframe thead th {\n",
       "        text-align: right;\n",
       "    }\n",
       "</style>\n",
       "<table border=\"1\" class=\"dataframe\">\n",
       "  <thead>\n",
       "    <tr style=\"text-align: right;\">\n",
       "      <th></th>\n",
       "      <th>country</th>\n",
       "      <th>region</th>\n",
       "      <th>happiness rank</th>\n",
       "      <th>happiness score</th>\n",
       "      <th>standard error</th>\n",
       "      <th>economy gdp per capita</th>\n",
       "      <th>family</th>\n",
       "      <th>health life expectancy</th>\n",
       "      <th>freedom</th>\n",
       "      <th>trust government corruption</th>\n",
       "      <th>generosity</th>\n",
       "      <th>dystopia residual</th>\n",
       "      <th>year</th>\n",
       "      <th>lower confidence interval</th>\n",
       "      <th>upper confidence interval</th>\n",
       "      <th>whisker high</th>\n",
       "      <th>whisker low</th>\n",
       "      <th>region_y</th>\n",
       "    </tr>\n",
       "  </thead>\n",
       "  <tbody>\n",
       "    <tr>\n",
       "      <th>0</th>\n",
       "      <td>Switzerland</td>\n",
       "      <td>Western Europe</td>\n",
       "      <td>1.0</td>\n",
       "      <td>7.587</td>\n",
       "      <td>0.03411</td>\n",
       "      <td>1.39651</td>\n",
       "      <td>1.349510</td>\n",
       "      <td>0.941430</td>\n",
       "      <td>0.665570</td>\n",
       "      <td>0.419780</td>\n",
       "      <td>0.296780</td>\n",
       "      <td>2.517380</td>\n",
       "      <td>2015</td>\n",
       "      <td>NaN</td>\n",
       "      <td>NaN</td>\n",
       "      <td>NaN</td>\n",
       "      <td>NaN</td>\n",
       "      <td>Western Europe</td>\n",
       "    </tr>\n",
       "    <tr>\n",
       "      <th>1</th>\n",
       "      <td>Switzerland</td>\n",
       "      <td>Western Europe</td>\n",
       "      <td>2.0</td>\n",
       "      <td>7.509</td>\n",
       "      <td>NaN</td>\n",
       "      <td>1.52733</td>\n",
       "      <td>1.145240</td>\n",
       "      <td>0.863030</td>\n",
       "      <td>0.585570</td>\n",
       "      <td>0.412030</td>\n",
       "      <td>0.280830</td>\n",
       "      <td>2.694630</td>\n",
       "      <td>2016</td>\n",
       "      <td>7.428</td>\n",
       "      <td>7.590</td>\n",
       "      <td>NaN</td>\n",
       "      <td>NaN</td>\n",
       "      <td>Western Europe</td>\n",
       "    </tr>\n",
       "    <tr>\n",
       "      <th>2</th>\n",
       "      <td>Switzerland</td>\n",
       "      <td>NaN</td>\n",
       "      <td>4.0</td>\n",
       "      <td>7.494</td>\n",
       "      <td>NaN</td>\n",
       "      <td>1.56498</td>\n",
       "      <td>1.516912</td>\n",
       "      <td>0.858131</td>\n",
       "      <td>0.620071</td>\n",
       "      <td>0.367007</td>\n",
       "      <td>0.290549</td>\n",
       "      <td>2.276716</td>\n",
       "      <td>2017</td>\n",
       "      <td>NaN</td>\n",
       "      <td>NaN</td>\n",
       "      <td>7.561772</td>\n",
       "      <td>7.426227</td>\n",
       "      <td>Western Europe</td>\n",
       "    </tr>\n",
       "    <tr>\n",
       "      <th>3</th>\n",
       "      <td>Iceland</td>\n",
       "      <td>Western Europe</td>\n",
       "      <td>2.0</td>\n",
       "      <td>7.561</td>\n",
       "      <td>0.04884</td>\n",
       "      <td>1.30232</td>\n",
       "      <td>1.402230</td>\n",
       "      <td>0.947840</td>\n",
       "      <td>0.628770</td>\n",
       "      <td>0.141450</td>\n",
       "      <td>0.436300</td>\n",
       "      <td>2.702010</td>\n",
       "      <td>2015</td>\n",
       "      <td>NaN</td>\n",
       "      <td>NaN</td>\n",
       "      <td>NaN</td>\n",
       "      <td>NaN</td>\n",
       "      <td>Western Europe</td>\n",
       "    </tr>\n",
       "    <tr>\n",
       "      <th>4</th>\n",
       "      <td>Iceland</td>\n",
       "      <td>Western Europe</td>\n",
       "      <td>3.0</td>\n",
       "      <td>7.501</td>\n",
       "      <td>NaN</td>\n",
       "      <td>1.42666</td>\n",
       "      <td>1.183260</td>\n",
       "      <td>0.867330</td>\n",
       "      <td>0.566240</td>\n",
       "      <td>0.149750</td>\n",
       "      <td>0.476780</td>\n",
       "      <td>2.831370</td>\n",
       "      <td>2016</td>\n",
       "      <td>7.333</td>\n",
       "      <td>7.669</td>\n",
       "      <td>NaN</td>\n",
       "      <td>NaN</td>\n",
       "      <td>Western Europe</td>\n",
       "    </tr>\n",
       "  </tbody>\n",
       "</table>\n",
       "</div>"
      ],
      "text/plain": [
       "       country          region  happiness rank  happiness score  \\\n",
       "0  Switzerland  Western Europe             1.0            7.587   \n",
       "1  Switzerland  Western Europe             2.0            7.509   \n",
       "2  Switzerland             NaN             4.0            7.494   \n",
       "3      Iceland  Western Europe             2.0            7.561   \n",
       "4      Iceland  Western Europe             3.0            7.501   \n",
       "\n",
       "   standard error  economy gdp per capita    family  health life expectancy  \\\n",
       "0         0.03411                 1.39651  1.349510                0.941430   \n",
       "1             NaN                 1.52733  1.145240                0.863030   \n",
       "2             NaN                 1.56498  1.516912                0.858131   \n",
       "3         0.04884                 1.30232  1.402230                0.947840   \n",
       "4             NaN                 1.42666  1.183260                0.867330   \n",
       "\n",
       "    freedom  trust government corruption  generosity  dystopia residual  year  \\\n",
       "0  0.665570                     0.419780    0.296780           2.517380  2015   \n",
       "1  0.585570                     0.412030    0.280830           2.694630  2016   \n",
       "2  0.620071                     0.367007    0.290549           2.276716  2017   \n",
       "3  0.628770                     0.141450    0.436300           2.702010  2015   \n",
       "4  0.566240                     0.149750    0.476780           2.831370  2016   \n",
       "\n",
       "   lower confidence interval  upper confidence interval  whisker high  \\\n",
       "0                        NaN                        NaN           NaN   \n",
       "1                      7.428                      7.590           NaN   \n",
       "2                        NaN                        NaN      7.561772   \n",
       "3                        NaN                        NaN           NaN   \n",
       "4                      7.333                      7.669           NaN   \n",
       "\n",
       "   whisker low        region_y  \n",
       "0          NaN  Western Europe  \n",
       "1          NaN  Western Europe  \n",
       "2     7.426227  Western Europe  \n",
       "3          NaN  Western Europe  \n",
       "4          NaN  Western Europe  "
      ]
     },
     "execution_count": 31,
     "metadata": {},
     "output_type": "execute_result"
    }
   ],
   "source": [
    "merge.head()"
   ]
  },
  {
   "cell_type": "code",
   "execution_count": 32,
   "id": "0742999b",
   "metadata": {},
   "outputs": [
    {
     "data": {
      "text/html": [
       "<div>\n",
       "<style scoped>\n",
       "    .dataframe tbody tr th:only-of-type {\n",
       "        vertical-align: middle;\n",
       "    }\n",
       "\n",
       "    .dataframe tbody tr th {\n",
       "        vertical-align: top;\n",
       "    }\n",
       "\n",
       "    .dataframe thead th {\n",
       "        text-align: right;\n",
       "    }\n",
       "</style>\n",
       "<table border=\"1\" class=\"dataframe\">\n",
       "  <thead>\n",
       "    <tr style=\"text-align: right;\">\n",
       "      <th></th>\n",
       "      <th>country</th>\n",
       "      <th>region</th>\n",
       "      <th>happiness rank</th>\n",
       "      <th>happiness score</th>\n",
       "      <th>standard error</th>\n",
       "      <th>economy gdp per capita</th>\n",
       "      <th>family</th>\n",
       "      <th>health life expectancy</th>\n",
       "      <th>freedom</th>\n",
       "      <th>trust government corruption</th>\n",
       "      <th>generosity</th>\n",
       "      <th>dystopia residual</th>\n",
       "      <th>year</th>\n",
       "      <th>lower confidence interval</th>\n",
       "      <th>upper confidence interval</th>\n",
       "      <th>whisker high</th>\n",
       "      <th>whisker low</th>\n",
       "      <th>region_y</th>\n",
       "    </tr>\n",
       "  </thead>\n",
       "  <tbody>\n",
       "  </tbody>\n",
       "</table>\n",
       "</div>"
      ],
      "text/plain": [
       "Empty DataFrame\n",
       "Columns: [country, region, happiness rank, happiness score, standard error, economy gdp per capita, family, health life expectancy, freedom, trust government corruption, generosity, dystopia residual, year, lower confidence interval, upper confidence interval, whisker high, whisker low, region_y]\n",
       "Index: []"
      ]
     },
     "execution_count": 32,
     "metadata": {},
     "output_type": "execute_result"
    }
   ],
   "source": [
    "merge[merge.duplicated([\"country\",\"year\"])]"
   ]
  },
  {
   "cell_type": "code",
   "execution_count": 33,
   "id": "4cb6c9a1",
   "metadata": {},
   "outputs": [
    {
     "data": {
      "text/plain": [
       "0    Switzerland\n",
       "1    Switzerland\n",
       "2    Switzerland\n",
       "3        Iceland\n",
       "4        Iceland\n",
       "Name: country, dtype: object"
      ]
     },
     "execution_count": 33,
     "metadata": {},
     "output_type": "execute_result"
    }
   ],
   "source": [
    "merge[\"country\"].head()"
   ]
  },
  {
   "cell_type": "code",
   "execution_count": 34,
   "id": "5385b005",
   "metadata": {},
   "outputs": [],
   "source": [
    "merge[\"country\"] = merge[\"country\"].str.lower()"
   ]
  },
  {
   "cell_type": "code",
   "execution_count": 35,
   "id": "e3d45fda",
   "metadata": {},
   "outputs": [
    {
     "data": {
      "text/html": [
       "<div>\n",
       "<style scoped>\n",
       "    .dataframe tbody tr th:only-of-type {\n",
       "        vertical-align: middle;\n",
       "    }\n",
       "\n",
       "    .dataframe tbody tr th {\n",
       "        vertical-align: top;\n",
       "    }\n",
       "\n",
       "    .dataframe thead th {\n",
       "        text-align: right;\n",
       "    }\n",
       "</style>\n",
       "<table border=\"1\" class=\"dataframe\">\n",
       "  <thead>\n",
       "    <tr style=\"text-align: right;\">\n",
       "      <th></th>\n",
       "      <th>country</th>\n",
       "      <th>region</th>\n",
       "      <th>happiness rank</th>\n",
       "      <th>happiness score</th>\n",
       "      <th>standard error</th>\n",
       "      <th>economy gdp per capita</th>\n",
       "      <th>family</th>\n",
       "      <th>health life expectancy</th>\n",
       "      <th>freedom</th>\n",
       "      <th>trust government corruption</th>\n",
       "      <th>generosity</th>\n",
       "      <th>dystopia residual</th>\n",
       "      <th>year</th>\n",
       "      <th>lower confidence interval</th>\n",
       "      <th>upper confidence interval</th>\n",
       "      <th>whisker high</th>\n",
       "      <th>whisker low</th>\n",
       "      <th>region_y</th>\n",
       "    </tr>\n",
       "  </thead>\n",
       "  <tbody>\n",
       "    <tr>\n",
       "      <th>486</th>\n",
       "      <td>somaliland region</td>\n",
       "      <td>NaN</td>\n",
       "      <td>NaN</td>\n",
       "      <td>NaN</td>\n",
       "      <td>NaN</td>\n",
       "      <td>NaN</td>\n",
       "      <td>NaN</td>\n",
       "      <td>NaN</td>\n",
       "      <td>NaN</td>\n",
       "      <td>NaN</td>\n",
       "      <td>NaN</td>\n",
       "      <td>NaN</td>\n",
       "      <td>2015</td>\n",
       "      <td>NaN</td>\n",
       "      <td>NaN</td>\n",
       "      <td>NaN</td>\n",
       "      <td>NaN</td>\n",
       "      <td>Sub-Saharan Africa</td>\n",
       "    </tr>\n",
       "    <tr>\n",
       "      <th>487</th>\n",
       "      <td>somaliland region</td>\n",
       "      <td>Sub-Saharan Africa</td>\n",
       "      <td>97.0</td>\n",
       "      <td>5.057</td>\n",
       "      <td>NaN</td>\n",
       "      <td>0.25558</td>\n",
       "      <td>0.75862</td>\n",
       "      <td>0.33108</td>\n",
       "      <td>0.3913</td>\n",
       "      <td>0.36794</td>\n",
       "      <td>0.51479</td>\n",
       "      <td>2.43801</td>\n",
       "      <td>2016</td>\n",
       "      <td>4.934</td>\n",
       "      <td>5.18</td>\n",
       "      <td>NaN</td>\n",
       "      <td>NaN</td>\n",
       "      <td>Sub-Saharan Africa</td>\n",
       "    </tr>\n",
       "    <tr>\n",
       "      <th>488</th>\n",
       "      <td>somaliland region</td>\n",
       "      <td>NaN</td>\n",
       "      <td>NaN</td>\n",
       "      <td>NaN</td>\n",
       "      <td>NaN</td>\n",
       "      <td>NaN</td>\n",
       "      <td>NaN</td>\n",
       "      <td>NaN</td>\n",
       "      <td>NaN</td>\n",
       "      <td>NaN</td>\n",
       "      <td>NaN</td>\n",
       "      <td>NaN</td>\n",
       "      <td>2017</td>\n",
       "      <td>NaN</td>\n",
       "      <td>NaN</td>\n",
       "      <td>NaN</td>\n",
       "      <td>NaN</td>\n",
       "      <td>Sub-Saharan Africa</td>\n",
       "    </tr>\n",
       "  </tbody>\n",
       "</table>\n",
       "</div>"
      ],
      "text/plain": [
       "               country              region  happiness rank  happiness score  \\\n",
       "486  somaliland region                 NaN             NaN              NaN   \n",
       "487  somaliland region  Sub-Saharan Africa            97.0            5.057   \n",
       "488  somaliland region                 NaN             NaN              NaN   \n",
       "\n",
       "     standard error  economy gdp per capita   family  health life expectancy  \\\n",
       "486             NaN                     NaN      NaN                     NaN   \n",
       "487             NaN                 0.25558  0.75862                 0.33108   \n",
       "488             NaN                     NaN      NaN                     NaN   \n",
       "\n",
       "     freedom  trust government corruption  generosity  dystopia residual  \\\n",
       "486      NaN                          NaN         NaN                NaN   \n",
       "487   0.3913                      0.36794     0.51479            2.43801   \n",
       "488      NaN                          NaN         NaN                NaN   \n",
       "\n",
       "     year  lower confidence interval  upper confidence interval  whisker high  \\\n",
       "486  2015                        NaN                        NaN           NaN   \n",
       "487  2016                      4.934                       5.18           NaN   \n",
       "488  2017                        NaN                        NaN           NaN   \n",
       "\n",
       "     whisker low            region_y  \n",
       "486          NaN  Sub-Saharan Africa  \n",
       "487          NaN  Sub-Saharan Africa  \n",
       "488          NaN  Sub-Saharan Africa  "
      ]
     },
     "execution_count": 35,
     "metadata": {},
     "output_type": "execute_result"
    }
   ],
   "source": [
    "merge[merge.duplicated([\"country\",\"year\"])]"
   ]
  },
  {
   "cell_type": "code",
   "execution_count": 36,
   "id": "961339b1",
   "metadata": {},
   "outputs": [],
   "source": [
    "merge = merge.drop_duplicates([\"country\",\"year\"])"
   ]
  },
  {
   "cell_type": "code",
   "execution_count": 37,
   "id": "5bbf5de3",
   "metadata": {},
   "outputs": [
    {
     "data": {
      "text/html": [
       "<div>\n",
       "<style scoped>\n",
       "    .dataframe tbody tr th:only-of-type {\n",
       "        vertical-align: middle;\n",
       "    }\n",
       "\n",
       "    .dataframe tbody tr th {\n",
       "        vertical-align: top;\n",
       "    }\n",
       "\n",
       "    .dataframe thead th {\n",
       "        text-align: right;\n",
       "    }\n",
       "</style>\n",
       "<table border=\"1\" class=\"dataframe\">\n",
       "  <thead>\n",
       "    <tr style=\"text-align: right;\">\n",
       "      <th></th>\n",
       "      <th>country</th>\n",
       "      <th>region</th>\n",
       "      <th>happiness rank</th>\n",
       "      <th>happiness score</th>\n",
       "      <th>standard error</th>\n",
       "      <th>economy gdp per capita</th>\n",
       "      <th>family</th>\n",
       "      <th>health life expectancy</th>\n",
       "      <th>freedom</th>\n",
       "      <th>trust government corruption</th>\n",
       "      <th>generosity</th>\n",
       "      <th>dystopia residual</th>\n",
       "      <th>year</th>\n",
       "      <th>lower confidence interval</th>\n",
       "      <th>upper confidence interval</th>\n",
       "      <th>whisker high</th>\n",
       "      <th>whisker low</th>\n",
       "      <th>region_y</th>\n",
       "    </tr>\n",
       "  </thead>\n",
       "  <tbody>\n",
       "  </tbody>\n",
       "</table>\n",
       "</div>"
      ],
      "text/plain": [
       "Empty DataFrame\n",
       "Columns: [country, region, happiness rank, happiness score, standard error, economy gdp per capita, family, health life expectancy, freedom, trust government corruption, generosity, dystopia residual, year, lower confidence interval, upper confidence interval, whisker high, whisker low, region_y]\n",
       "Index: []"
      ]
     },
     "execution_count": 37,
     "metadata": {},
     "output_type": "execute_result"
    }
   ],
   "source": [
    "merge[merge.duplicated([\"country\",\"year\"])]"
   ]
  },
  {
   "cell_type": "code",
   "execution_count": 38,
   "id": "33543b34",
   "metadata": {},
   "outputs": [
    {
     "data": {
      "text/plain": [
       "country                          0\n",
       "region                         175\n",
       "happiness rank                  20\n",
       "happiness score                 20\n",
       "standard error                 331\n",
       "economy gdp per capita          20\n",
       "family                          20\n",
       "health life expectancy          20\n",
       "freedom                         20\n",
       "trust government corruption     20\n",
       "generosity                      20\n",
       "dystopia residual               20\n",
       "year                             0\n",
       "lower confidence interval      333\n",
       "upper confidence interval      333\n",
       "whisker high                   334\n",
       "whisker low                    334\n",
       "region_y                         0\n",
       "dtype: int64"
      ]
     },
     "execution_count": 38,
     "metadata": {},
     "output_type": "execute_result"
    }
   ],
   "source": [
    "merge.isnull().sum()"
   ]
  },
  {
   "cell_type": "code",
   "execution_count": 39,
   "id": "efdd7b2d",
   "metadata": {},
   "outputs": [],
   "source": [
    "merge = merge.drop(\"region\",axis = 1)"
   ]
  },
  {
   "cell_type": "code",
   "execution_count": 40,
   "id": "a6682cdc",
   "metadata": {},
   "outputs": [],
   "source": [
    "regions = merge.pop(\"region_y\")"
   ]
  },
  {
   "cell_type": "code",
   "execution_count": 42,
   "id": "55e743ab",
   "metadata": {},
   "outputs": [],
   "source": [
    "merge.insert(1,\"region\",regions)"
   ]
  },
  {
   "cell_type": "code",
   "execution_count": 43,
   "id": "e8fdf4b1",
   "metadata": {},
   "outputs": [
    {
     "data": {
      "text/html": [
       "<div>\n",
       "<style scoped>\n",
       "    .dataframe tbody tr th:only-of-type {\n",
       "        vertical-align: middle;\n",
       "    }\n",
       "\n",
       "    .dataframe tbody tr th {\n",
       "        vertical-align: top;\n",
       "    }\n",
       "\n",
       "    .dataframe thead th {\n",
       "        text-align: right;\n",
       "    }\n",
       "</style>\n",
       "<table border=\"1\" class=\"dataframe\">\n",
       "  <thead>\n",
       "    <tr style=\"text-align: right;\">\n",
       "      <th></th>\n",
       "      <th>country</th>\n",
       "      <th>region</th>\n",
       "      <th>happiness rank</th>\n",
       "      <th>happiness score</th>\n",
       "      <th>standard error</th>\n",
       "      <th>economy gdp per capita</th>\n",
       "      <th>family</th>\n",
       "      <th>health life expectancy</th>\n",
       "      <th>freedom</th>\n",
       "      <th>trust government corruption</th>\n",
       "      <th>generosity</th>\n",
       "      <th>dystopia residual</th>\n",
       "      <th>year</th>\n",
       "      <th>lower confidence interval</th>\n",
       "      <th>upper confidence interval</th>\n",
       "      <th>whisker high</th>\n",
       "      <th>whisker low</th>\n",
       "    </tr>\n",
       "  </thead>\n",
       "  <tbody>\n",
       "    <tr>\n",
       "      <th>0</th>\n",
       "      <td>switzerland</td>\n",
       "      <td>Western Europe</td>\n",
       "      <td>1.0</td>\n",
       "      <td>7.587</td>\n",
       "      <td>0.03411</td>\n",
       "      <td>1.39651</td>\n",
       "      <td>1.349510</td>\n",
       "      <td>0.941430</td>\n",
       "      <td>0.665570</td>\n",
       "      <td>0.419780</td>\n",
       "      <td>0.296780</td>\n",
       "      <td>2.517380</td>\n",
       "      <td>2015</td>\n",
       "      <td>NaN</td>\n",
       "      <td>NaN</td>\n",
       "      <td>NaN</td>\n",
       "      <td>NaN</td>\n",
       "    </tr>\n",
       "    <tr>\n",
       "      <th>1</th>\n",
       "      <td>switzerland</td>\n",
       "      <td>Western Europe</td>\n",
       "      <td>2.0</td>\n",
       "      <td>7.509</td>\n",
       "      <td>NaN</td>\n",
       "      <td>1.52733</td>\n",
       "      <td>1.145240</td>\n",
       "      <td>0.863030</td>\n",
       "      <td>0.585570</td>\n",
       "      <td>0.412030</td>\n",
       "      <td>0.280830</td>\n",
       "      <td>2.694630</td>\n",
       "      <td>2016</td>\n",
       "      <td>7.428</td>\n",
       "      <td>7.590</td>\n",
       "      <td>NaN</td>\n",
       "      <td>NaN</td>\n",
       "    </tr>\n",
       "    <tr>\n",
       "      <th>2</th>\n",
       "      <td>switzerland</td>\n",
       "      <td>Western Europe</td>\n",
       "      <td>4.0</td>\n",
       "      <td>7.494</td>\n",
       "      <td>NaN</td>\n",
       "      <td>1.56498</td>\n",
       "      <td>1.516912</td>\n",
       "      <td>0.858131</td>\n",
       "      <td>0.620071</td>\n",
       "      <td>0.367007</td>\n",
       "      <td>0.290549</td>\n",
       "      <td>2.276716</td>\n",
       "      <td>2017</td>\n",
       "      <td>NaN</td>\n",
       "      <td>NaN</td>\n",
       "      <td>7.561772</td>\n",
       "      <td>7.426227</td>\n",
       "    </tr>\n",
       "    <tr>\n",
       "      <th>3</th>\n",
       "      <td>iceland</td>\n",
       "      <td>Western Europe</td>\n",
       "      <td>2.0</td>\n",
       "      <td>7.561</td>\n",
       "      <td>0.04884</td>\n",
       "      <td>1.30232</td>\n",
       "      <td>1.402230</td>\n",
       "      <td>0.947840</td>\n",
       "      <td>0.628770</td>\n",
       "      <td>0.141450</td>\n",
       "      <td>0.436300</td>\n",
       "      <td>2.702010</td>\n",
       "      <td>2015</td>\n",
       "      <td>NaN</td>\n",
       "      <td>NaN</td>\n",
       "      <td>NaN</td>\n",
       "      <td>NaN</td>\n",
       "    </tr>\n",
       "    <tr>\n",
       "      <th>4</th>\n",
       "      <td>iceland</td>\n",
       "      <td>Western Europe</td>\n",
       "      <td>3.0</td>\n",
       "      <td>7.501</td>\n",
       "      <td>NaN</td>\n",
       "      <td>1.42666</td>\n",
       "      <td>1.183260</td>\n",
       "      <td>0.867330</td>\n",
       "      <td>0.566240</td>\n",
       "      <td>0.149750</td>\n",
       "      <td>0.476780</td>\n",
       "      <td>2.831370</td>\n",
       "      <td>2016</td>\n",
       "      <td>7.333</td>\n",
       "      <td>7.669</td>\n",
       "      <td>NaN</td>\n",
       "      <td>NaN</td>\n",
       "    </tr>\n",
       "  </tbody>\n",
       "</table>\n",
       "</div>"
      ],
      "text/plain": [
       "       country          region  happiness rank  happiness score  \\\n",
       "0  switzerland  Western Europe             1.0            7.587   \n",
       "1  switzerland  Western Europe             2.0            7.509   \n",
       "2  switzerland  Western Europe             4.0            7.494   \n",
       "3      iceland  Western Europe             2.0            7.561   \n",
       "4      iceland  Western Europe             3.0            7.501   \n",
       "\n",
       "   standard error  economy gdp per capita    family  health life expectancy  \\\n",
       "0         0.03411                 1.39651  1.349510                0.941430   \n",
       "1             NaN                 1.52733  1.145240                0.863030   \n",
       "2             NaN                 1.56498  1.516912                0.858131   \n",
       "3         0.04884                 1.30232  1.402230                0.947840   \n",
       "4             NaN                 1.42666  1.183260                0.867330   \n",
       "\n",
       "    freedom  trust government corruption  generosity  dystopia residual  year  \\\n",
       "0  0.665570                     0.419780    0.296780           2.517380  2015   \n",
       "1  0.585570                     0.412030    0.280830           2.694630  2016   \n",
       "2  0.620071                     0.367007    0.290549           2.276716  2017   \n",
       "3  0.628770                     0.141450    0.436300           2.702010  2015   \n",
       "4  0.566240                     0.149750    0.476780           2.831370  2016   \n",
       "\n",
       "   lower confidence interval  upper confidence interval  whisker high  \\\n",
       "0                        NaN                        NaN           NaN   \n",
       "1                      7.428                      7.590           NaN   \n",
       "2                        NaN                        NaN      7.561772   \n",
       "3                        NaN                        NaN           NaN   \n",
       "4                      7.333                      7.669           NaN   \n",
       "\n",
       "   whisker low  \n",
       "0          NaN  \n",
       "1          NaN  \n",
       "2     7.426227  \n",
       "3          NaN  \n",
       "4          NaN  "
      ]
     },
     "execution_count": 43,
     "metadata": {},
     "output_type": "execute_result"
    }
   ],
   "source": [
    "merge.head()"
   ]
  },
  {
   "cell_type": "code",
   "execution_count": 44,
   "id": "a10f640d",
   "metadata": {},
   "outputs": [
    {
     "data": {
      "text/plain": [
       "country                          0\n",
       "region                           0\n",
       "happiness rank                  20\n",
       "happiness score                 20\n",
       "standard error                 331\n",
       "economy gdp per capita          20\n",
       "family                          20\n",
       "health life expectancy          20\n",
       "freedom                         20\n",
       "trust government corruption     20\n",
       "generosity                      20\n",
       "dystopia residual               20\n",
       "year                             0\n",
       "lower confidence interval      333\n",
       "upper confidence interval      333\n",
       "whisker high                   334\n",
       "whisker low                    334\n",
       "dtype: int64"
      ]
     },
     "execution_count": 44,
     "metadata": {},
     "output_type": "execute_result"
    }
   ],
   "source": [
    "merge.isnull().sum()"
   ]
  },
  {
   "cell_type": "code",
   "execution_count": 46,
   "id": "1a3edfd8",
   "metadata": {},
   "outputs": [
    {
     "data": {
      "text/plain": [
       "whisker low                    155\n",
       "whisker high                   155\n",
       "upper confidence interval      156\n",
       "lower confidence interval      156\n",
       "standard error                 158\n",
       "dystopia residual              469\n",
       "generosity                     469\n",
       "trust government corruption    469\n",
       "freedom                        469\n",
       "family                         469\n",
       "economy gdp per capita         469\n",
       "happiness score                469\n",
       "happiness rank                 469\n",
       "health life expectancy         469\n",
       "year                           489\n",
       "region                         489\n",
       "country                        489\n",
       "dtype: int64"
      ]
     },
     "execution_count": 46,
     "metadata": {},
     "output_type": "execute_result"
    }
   ],
   "source": [
    "merge.notnull().sum().sort_values()"
   ]
  },
  {
   "cell_type": "code",
   "execution_count": 47,
   "id": "140e7bd9",
   "metadata": {},
   "outputs": [],
   "source": [
    "merge = merge.dropna(thresh = 159,axis = 1)"
   ]
  },
  {
   "cell_type": "code",
   "execution_count": 48,
   "id": "3505ac58",
   "metadata": {},
   "outputs": [
    {
     "data": {
      "text/plain": [
       "country                        489\n",
       "region                         489\n",
       "happiness rank                 469\n",
       "happiness score                469\n",
       "economy gdp per capita         469\n",
       "family                         469\n",
       "health life expectancy         469\n",
       "freedom                        469\n",
       "trust government corruption    469\n",
       "generosity                     469\n",
       "dystopia residual              469\n",
       "year                           489\n",
       "dtype: int64"
      ]
     },
     "execution_count": 48,
     "metadata": {},
     "output_type": "execute_result"
    }
   ],
   "source": [
    "merge.notnull().sum()"
   ]
  },
  {
   "cell_type": "code",
   "execution_count": 49,
   "id": "69501744",
   "metadata": {},
   "outputs": [
    {
     "data": {
      "image/png": "[encoded data removed]",
      "text/plain": [
       "<Figure size 432x288 with 1 Axes>"
      ]
     },
     "metadata": {
      "needs_background": "light"
     },
     "output_type": "display_data"
    }
   ],
   "source": [
    "sns.heatmap(merge.set_index(\"region\").sort_values([\"region\",\"happiness score\"]).isnull(),cbar = False)\n",
    "plt.show()"
   ]
  },
  {
   "cell_type": "code",
   "execution_count": 51,
   "id": "acc6545b",
   "metadata": {},
   "outputs": [],
   "source": [
    "mean = merge[\"happiness rank\"].mean()"
   ]
  },
  {
   "cell_type": "code",
   "execution_count": 52,
   "id": "0920a6c7",
   "metadata": {},
   "outputs": [
    {
     "data": {
      "text/plain": [
       "78.7910447761194"
      ]
     },
     "execution_count": 52,
     "metadata": {},
     "output_type": "execute_result"
    }
   ],
   "source": [
    "mean"
   ]
  },
  {
   "cell_type": "code",
   "execution_count": 54,
   "id": "1bfe6ef3",
   "metadata": {},
   "outputs": [
    {
     "name": "stderr",
     "output_type": "stream",
     "text": [
      "<ipython-input-54-23a55170718d>:1: SettingWithCopyWarning: \n",
      "A value is trying to be set on a copy of a slice from a DataFrame.\n",
      "Try using .loc[row_indexer,col_indexer] = value instead\n",
      "\n",
      "See the caveats in the documentation: https://pandas.pydata.org/pandas-docs/stable/user_guide/indexing.html#returning-a-view-versus-a-copy\n",
      "  merge[\"happiness rank\"] = merge[\"happiness rank\"].fillna(mean)\n"
     ]
    }
   ],
   "source": [
    "merge[\"happiness rank\"] = merge[\"happiness rank\"].fillna(mean)"
   ]
  },
  {
   "cell_type": "code",
   "execution_count": 55,
   "id": "c58bcec2",
   "metadata": {},
   "outputs": [
    {
     "data": {
      "image/png": "[encoded data removed]",
      "text/plain": [
       "<Figure size 432x288 with 1 Axes>"
      ]
     },
     "metadata": {
      "needs_background": "light"
     },
     "output_type": "display_data"
    }
   ],
   "source": [
    "sns.heatmap(merge.set_index(\"region\").sort_values([\"region\",\"happiness score\"]).isnull(),cbar = False)\n",
    "plt.show()"
   ]
  },
  {
   "cell_type": "code",
   "execution_count": 59,
   "id": "d302bb11",
   "metadata": {},
   "outputs": [],
   "source": [
    "def mean(factor):\n",
    "    fact = merge[factor]\n",
    "    return fact.mean()"
   ]
  },
  {
   "cell_type": "code",
   "execution_count": 60,
   "id": "fe04056e",
   "metadata": {},
   "outputs": [
    {
     "data": {
      "text/plain": [
       "78.79104477611938"
      ]
     },
     "execution_count": 60,
     "metadata": {},
     "output_type": "execute_result"
    }
   ],
   "source": [
    "mean(\"happiness rank\")"
   ]
  },
  {
   "cell_type": "code",
   "execution_count": 61,
   "id": "73317c52",
   "metadata": {},
   "outputs": [],
   "source": [
    "hs = mean(\"happiness score\")"
   ]
  },
  {
   "cell_type": "code",
   "execution_count": 62,
   "id": "02daf1e9",
   "metadata": {},
   "outputs": [
    {
     "name": "stderr",
     "output_type": "stream",
     "text": [
      "<ipython-input-62-e70d8f4e19ca>:1: SettingWithCopyWarning: \n",
      "A value is trying to be set on a copy of a slice from a DataFrame.\n",
      "Try using .loc[row_indexer,col_indexer] = value instead\n",
      "\n",
      "See the caveats in the documentation: https://pandas.pydata.org/pandas-docs/stable/user_guide/indexing.html#returning-a-view-versus-a-copy\n",
      "  merge[\"happiness score\"] = merge[\"happiness score\"].fillna(hs)\n"
     ]
    }
   ],
   "source": [
    "merge[\"happiness score\"] = merge[\"happiness score\"].fillna(hs)"
   ]
  },
  {
   "cell_type": "code",
   "execution_count": 63,
   "id": "5ff9e49c",
   "metadata": {},
   "outputs": [
    {
     "name": "stderr",
     "output_type": "stream",
     "text": [
      "<ipython-input-63-2c77b852158b>:2: SettingWithCopyWarning: \n",
      "A value is trying to be set on a copy of a slice from a DataFrame.\n",
      "Try using .loc[row_indexer,col_indexer] = value instead\n",
      "\n",
      "See the caveats in the documentation: https://pandas.pydata.org/pandas-docs/stable/user_guide/indexing.html#returning-a-view-versus-a-copy\n",
      "  merge[\"economy gdp per capita\"]= merge[\"economy gdp per capita\"].fillna(eco)\n"
     ]
    }
   ],
   "source": [
    "eco = mean(\"economy gdp per capita\")\n",
    "merge[\"economy gdp per capita\"]= merge[\"economy gdp per capita\"].fillna(eco)"
   ]
  },
  {
   "cell_type": "code",
   "execution_count": 64,
   "id": "981614b9",
   "metadata": {},
   "outputs": [
    {
     "name": "stderr",
     "output_type": "stream",
     "text": [
      "<ipython-input-64-ebdb3e5fbd11>:2: SettingWithCopyWarning: \n",
      "A value is trying to be set on a copy of a slice from a DataFrame.\n",
      "Try using .loc[row_indexer,col_indexer] = value instead\n",
      "\n",
      "See the caveats in the documentation: https://pandas.pydata.org/pandas-docs/stable/user_guide/indexing.html#returning-a-view-versus-a-copy\n",
      "  merge[\"family\"]= merge[\"family\"].fillna(fam)\n"
     ]
    }
   ],
   "source": [
    "fam = mean(\"family\")\n",
    "merge[\"family\"]= merge[\"family\"].fillna(fam)"
   ]
  },
  {
   "cell_type": "code",
   "execution_count": 65,
   "id": "a132a68c",
   "metadata": {},
   "outputs": [
    {
     "name": "stderr",
     "output_type": "stream",
     "text": [
      "<ipython-input-65-ec6ab09f90aa>:2: SettingWithCopyWarning: \n",
      "A value is trying to be set on a copy of a slice from a DataFrame.\n",
      "Try using .loc[row_indexer,col_indexer] = value instead\n",
      "\n",
      "See the caveats in the documentation: https://pandas.pydata.org/pandas-docs/stable/user_guide/indexing.html#returning-a-view-versus-a-copy\n",
      "  merge[\"health life expectancy\"]= merge[\"health life expectancy\"].fillna(health)\n"
     ]
    }
   ],
   "source": [
    "health = mean(\"health life expectancy\")\n",
    "merge[\"health life expectancy\"]= merge[\"health life expectancy\"].fillna(health)"
   ]
  },
  {
   "cell_type": "code",
   "execution_count": 66,
   "id": "ddf1d478",
   "metadata": {},
   "outputs": [
    {
     "name": "stderr",
     "output_type": "stream",
     "text": [
      "<ipython-input-66-d7ca52c669ea>:2: SettingWithCopyWarning: \n",
      "A value is trying to be set on a copy of a slice from a DataFrame.\n",
      "Try using .loc[row_indexer,col_indexer] = value instead\n",
      "\n",
      "See the caveats in the documentation: https://pandas.pydata.org/pandas-docs/stable/user_guide/indexing.html#returning-a-view-versus-a-copy\n",
      "  merge[\"freedom\"]= merge[\"freedom\"].fillna(free)\n"
     ]
    }
   ],
   "source": [
    "free = mean(\"freedom\")\n",
    "merge[\"freedom\"]= merge[\"freedom\"].fillna(free)"
   ]
  },
  {
   "cell_type": "code",
   "execution_count": 69,
   "id": "7be054e7",
   "metadata": {},
   "outputs": [
    {
     "name": "stderr",
     "output_type": "stream",
     "text": [
      "<ipython-input-69-0004e6823b95>:2: SettingWithCopyWarning: \n",
      "A value is trying to be set on a copy of a slice from a DataFrame.\n",
      "Try using .loc[row_indexer,col_indexer] = value instead\n",
      "\n",
      "See the caveats in the documentation: https://pandas.pydata.org/pandas-docs/stable/user_guide/indexing.html#returning-a-view-versus-a-copy\n",
      "  merge[\"trust government corruption\"]= merge[\"trust government corruption\"].fillna(gov)\n"
     ]
    }
   ],
   "source": [
    "gov = mean(\"trust government corruption\")\n",
    "merge[\"trust government corruption\"]= merge[\"trust government corruption\"].fillna(gov)"
   ]
  },
  {
   "cell_type": "code",
   "execution_count": 70,
   "id": "fce1b9fa",
   "metadata": {},
   "outputs": [
    {
     "name": "stderr",
     "output_type": "stream",
     "text": [
      "<ipython-input-70-de4466181c60>:2: SettingWithCopyWarning: \n",
      "A value is trying to be set on a copy of a slice from a DataFrame.\n",
      "Try using .loc[row_indexer,col_indexer] = value instead\n",
      "\n",
      "See the caveats in the documentation: https://pandas.pydata.org/pandas-docs/stable/user_guide/indexing.html#returning-a-view-versus-a-copy\n",
      "  merge[\"generosity\"]= merge[\"generosity\"].fillna(gen)\n"
     ]
    }
   ],
   "source": [
    "gen = mean(\"generosity\")\n",
    "merge[\"generosity\"]= merge[\"generosity\"].fillna(gen)"
   ]
  },
  {
   "cell_type": "code",
   "execution_count": 71,
   "id": "80aaf486",
   "metadata": {},
   "outputs": [
    {
     "name": "stderr",
     "output_type": "stream",
     "text": [
      "<ipython-input-71-bf9598cfef3f>:2: SettingWithCopyWarning: \n",
      "A value is trying to be set on a copy of a slice from a DataFrame.\n",
      "Try using .loc[row_indexer,col_indexer] = value instead\n",
      "\n",
      "See the caveats in the documentation: https://pandas.pydata.org/pandas-docs/stable/user_guide/indexing.html#returning-a-view-versus-a-copy\n",
      "  merge[\"dystopia residual\"]= merge[\"dystopia residual\"].fillna(ds)\n"
     ]
    }
   ],
   "source": [
    "ds = mean(\"dystopia residual\")\n",
    "merge[\"dystopia residual\"]= merge[\"dystopia residual\"].fillna(ds)"
   ]
  },
  {
   "cell_type": "code",
   "execution_count": 72,
   "id": "4e50fbf1",
   "metadata": {},
   "outputs": [
    {
     "data": {
      "image/png": "[encoded data removed]",
      "text/plain": [
       "<Figure size 432x288 with 1 Axes>"
      ]
     },
     "metadata": {
      "needs_background": "light"
     },
     "output_type": "display_data"
    }
   ],
   "source": [
    "sns.heatmap(merge.set_index(\"region\").sort_values([\"region\",\"happiness score\"]).isnull(),cbar = False)\n",
    "plt.show()"
   ]
  },
  {
   "cell_type": "code",
   "execution_count": 73,
   "id": "01024a81",
   "metadata": {},
   "outputs": [
    {
     "data": {
      "text/plain": [
       "country                        0\n",
       "region                         0\n",
       "happiness rank                 0\n",
       "happiness score                0\n",
       "economy gdp per capita         0\n",
       "family                         0\n",
       "health life expectancy         0\n",
       "freedom                        0\n",
       "trust government corruption    0\n",
       "generosity                     0\n",
       "dystopia residual              0\n",
       "year                           0\n",
       "dtype: int64"
      ]
     },
     "execution_count": 73,
     "metadata": {},
     "output_type": "execute_result"
    }
   ],
   "source": [
    "merge.isnull().sum()"
   ]
  }
 ],
 "metadata": {
  "kernelspec": {
   "display_name": "Python 3",
   "language": "python",
   "name": "python3"
  },
  "language_info": {
   "codemirror_mode": {
    "name": "ipython",
    "version": 3
   },
   "file_extension": ".py",
   "mimetype": "text/x-python",
   "name": "python",
   "nbconvert_exporter": "python",
   "pygments_lexer": "ipython3",
   "version": "3.8.8"
  }
 },
 "nbformat": 4,
 "nbformat_minor": 5
}
